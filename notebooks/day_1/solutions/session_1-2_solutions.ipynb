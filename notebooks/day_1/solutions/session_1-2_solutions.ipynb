{
 "cells": [
  {
   "cell_type": "markdown",
   "metadata": {
    "collapsed": true
   },
   "source": [
    "# Session 1.2\n",
    "## Scientific computing in Python\n",
    "- Python has a number of scientific computing modules that enable\n",
    "    - Fast computation on large data sets\n",
    "    - Advanced statistical analysis\n",
    "    - Data transformations\n",
    "    - Computer vision\n",
    "    - Plotting data and creating figures for publication in scientific journals\n",
    "    \n",
    " \n",
    "    \n",
    "- Today we will introduce and explore the functionality of the following two libraries\n",
    "    - ** numpy **: Fast computation on multidimensional arrays, with additional miscellaneous functionality---we used this to generate random numbers in Session 1-1\n",
    "    - ** matplotlib **: A plotting package with an interface inspired by matlab---we saw this in Session 1-1"
   ]
  },
  {
   "cell_type": "markdown",
   "metadata": {},
   "source": [
    "# Part 0: Numpy (1 hour)\n",
    "- `numpy` is a package that allows creation and manipulation of multidimensional array objects called `numpy.array`\n",
    "    - For example, we can create 1D vectors, 2D vectors, 2D matrices, N-dimensional arrays, etc.\n",
    "- `numpy` also includes functions to enable linear algebra operations (vector/matrix multiplication, transpose, eigenvalues and eigenvectors, etc.)\n",
    "- numpy is ** fast!! ** \n",
    "    - The underlying computations are performed are written in C---much faster than running pure Python\n",
    "- Let's see how fast `numpy` is by taking the dot product of two vectors in two days:\n",
    "    1. Manually, using plain Python\n",
    "    2. Using `numpy`'s `dot()` function for array multiplication"
   ]
  },
  {
   "cell_type": "markdown",
   "metadata": {},
   "source": [
    "## <font color=\"green\">Benchmarking numpy vs pure Python </font>"
   ]
  },
  {
   "cell_type": "code",
   "execution_count": 2,
   "metadata": {},
   "outputs": [
    {
     "name": "stdout",
     "output_type": "stream",
     "text": [
      "Numpy np.dot() function benchmark: 0.02498006820678711 seconds\n",
      "result: 2500733.03029\n",
      "\n",
      "\n",
      "\n",
      "Plain Python (list comprehension and sum function) benchmark 4.30558443069458 seconds\n",
      "result: 2500733.03029\n",
      "\n",
      "\n",
      "\n",
      "Plain Python (for loops) benchmark 7.5013134479522705 seconds\n",
      "result: 2500733.03029\n",
      "\n",
      "\n",
      "\n",
      "Numpy method is 172 times faster than using plain Python!\n"
     ]
    }
   ],
   "source": [
    "import time           # Import time module to time the functions\n",
    "import numpy as np    # It's customary to import numpy as np\n",
    "\n",
    "\n",
    "N = 10000000\n",
    "# Create a vector of N random numbers\n",
    "rand_vector_0 = np.random.rand(N)\n",
    "rand_vector_1 = np.random.rand(N)\n",
    "\n",
    "\n",
    "\n",
    "\n",
    "\n",
    "####################################################################################################\n",
    "# Method 1 (Super fast): Using the np.dot() function\n",
    "####################################################################################################\n",
    "\n",
    "t0 = time.time()\n",
    "dot_product = np.dot(rand_vector_0, rand_vector_1)\n",
    "t1 = time.time()\n",
    "numpy_time = t1 - t0\n",
    "\n",
    "print('Numpy np.dot() function benchmark:', t1 - t0, 'seconds')\n",
    "print('result:', dot_product)\n",
    "print('\\n\\n')\n",
    "\n",
    "\n",
    "\n",
    "####################################################################################################\n",
    "# Method 2 (Slow): Plain Python using list comprehension and sum() function\n",
    "####################################################################################################\n",
    "\n",
    "t0 = time.time()\n",
    "dot_product = sum([r0*r1 for r0, r1 in zip(rand_vector_0, rand_vector_1)])\n",
    "t1 = time.time()\n",
    "\n",
    "python_time = t1 - t0\n",
    "\n",
    "print('Plain Python (list comprehension and sum function) benchmark', t1 - t0, 'seconds')\n",
    "print('result:', dot_product)\n",
    "print('\\n\\n')\n",
    "\n",
    "\n",
    "####################################################################################################\n",
    "# Method 3 (Very slow): Manual dot product using for loops\n",
    "####################################################################################################\n",
    "\n",
    "t0 = time.time()\n",
    "dot_product = 0\n",
    "for i in range(N):\n",
    "    dot_product = dot_product + rand_vector_0[i]*rand_vector_1[i]\n",
    "t1 = time.time()\n",
    "\n",
    "print('Plain Python (for loops) benchmark', t1 - t0, 'seconds')\n",
    "print('result:', dot_product)\n",
    "print('\\n\\n')\n",
    "\n",
    "print('Numpy method is', int(python_time/numpy_time), 'times faster than using plain Python!')"
   ]
  },
  {
   "cell_type": "markdown",
   "metadata": {},
   "source": [
    "### Creating numpy arrays\n",
    "- Numpy arrays are all of type `numpy.ndarray`, but we simply call them arrays for short\n",
    "- Sometimes we will refer to arrays as vectors or matrices; this is a mathematical description instead of a `numpy` description\n",
    "    - A vector is a `numpy.ndarray` of shape $\\left(N\\times1\\right)$ (column vector) or shape $\\left(1\\times N\\right)$ (row vector)\n",
    "    - A matrix is a `numpy.ndarray` of shape $\\left(M\\times N\\right)$ for $M, N \\neq 1$\n",
    "    - One small point of confusion is that `numpy` has its own matrix class... Never use it! We will only be working with `numpy.ndarray`-type objects\n",
    "    - Rules of linear algebra are imposed on vectors and matrices, for instance, multiplication only works if the dimensionality of the two vectors/matrices makes sense\n",
    "- There are two methods for creating numpy arrays:"
   ]
  },
  {
   "cell_type": "code",
   "execution_count": 3,
   "metadata": {},
   "outputs": [
    {
     "name": "stdout",
     "output_type": "stream",
     "text": [
      "a column vector\n",
      "[[1]\n",
      " [2]\n",
      " [3]] \n",
      "\n",
      "\n",
      "a row vector\n",
      "[[1 2 3]] \n",
      "\n",
      "\n",
      "a matrix\n",
      "[[1 2 3]\n",
      " [4 5 6]\n",
      " [7 8 9]] \n",
      "\n",
      "\n"
     ]
    }
   ],
   "source": [
    "#########################################################\n",
    "# Method 1: Converting Python lists to numpy arrays\n",
    "#########################################################\n",
    "column_vector = np.array([[1],[2],[3]])    # Notice the extra brackets; we will explain this in a bit\n",
    "row_vector = np.array([[1,2,3]])\n",
    "matrix = np.array([[1,2,3],[4,5,6],[7,8,9]])\n",
    "\n",
    "print('a column vector')\n",
    "print(column_vector, '\\n\\n')\n",
    "\n",
    "print('a row vector')\n",
    "print(row_vector, '\\n\\n')\n",
    "\n",
    "print('a matrix')\n",
    "print(matrix, '\\n\\n')"
   ]
  },
  {
   "cell_type": "code",
   "execution_count": 4,
   "metadata": {},
   "outputs": [
    {
     "ename": "OSError",
     "evalue": "./data/numpy_csv not found.",
     "output_type": "error",
     "traceback": [
      "\u001b[0;31m-----------------------------------------------------------------\u001b[0m",
      "\u001b[0;31mOSError\u001b[0m                         Traceback (most recent call last)",
      "\u001b[0;32m<ipython-input-4-6a7b7499ff25>\u001b[0m in \u001b[0;36m<module>\u001b[0;34m()\u001b[0m\n\u001b[1;32m     11\u001b[0m \u001b[0mrandom_array\u001b[0m \u001b[0;34m=\u001b[0m \u001b[0mnp\u001b[0m\u001b[0;34m.\u001b[0m\u001b[0mrandom\u001b[0m\u001b[0;34m.\u001b[0m\u001b[0mrand\u001b[0m\u001b[0;34m(\u001b[0m\u001b[0;36m10\u001b[0m\u001b[0;34m,\u001b[0m\u001b[0;36m10\u001b[0m\u001b[0;34m)\u001b[0m    \u001b[0;31m# Create a matrix of random numbers\u001b[0m\u001b[0;34m\u001b[0m\u001b[0m\n\u001b[1;32m     12\u001b[0m \u001b[0;34m\u001b[0m\u001b[0m\n\u001b[0;32m---> 13\u001b[0;31m \u001b[0mdata_array\u001b[0m \u001b[0;34m=\u001b[0m \u001b[0mnp\u001b[0m\u001b[0;34m.\u001b[0m\u001b[0mgenfromtxt\u001b[0m\u001b[0;34m(\u001b[0m\u001b[0;34m'./data/numpy_csv'\u001b[0m\u001b[0;34m,\u001b[0m \u001b[0mdelimiter\u001b[0m \u001b[0;34m=\u001b[0m \u001b[0;34m','\u001b[0m\u001b[0;34m)\u001b[0m    \u001b[0;31m# Create a matrix from a csv file\u001b[0m\u001b[0;34m\u001b[0m\u001b[0m\n\u001b[0m\u001b[1;32m     14\u001b[0m \u001b[0;34m\u001b[0m\u001b[0m\n\u001b[1;32m     15\u001b[0m \u001b[0mprint\u001b[0m\u001b[0;34m(\u001b[0m\u001b[0mdata_array\u001b[0m\u001b[0;34m.\u001b[0m\u001b[0mshape\u001b[0m\u001b[0;34m)\u001b[0m    \u001b[0;31m# Figure out the shape of the matrix imported from file\u001b[0m\u001b[0;34m\u001b[0m\u001b[0m\n",
      "\u001b[0;32m/home/prestonh/anaconda3/envs/py36/lib/python3.6/site-packages/numpy/lib/npyio.py\u001b[0m in \u001b[0;36mgenfromtxt\u001b[0;34m(fname, dtype, comments, delimiter, skip_header, skip_footer, converters, missing_values, filling_values, usecols, names, excludelist, deletechars, replace_space, autostrip, case_sensitive, defaultfmt, unpack, usemask, loose, invalid_raise, max_rows)\u001b[0m\n\u001b[1;32m   1510\u001b[0m                 \u001b[0mfhd\u001b[0m \u001b[0;34m=\u001b[0m \u001b[0miter\u001b[0m\u001b[0;34m(\u001b[0m\u001b[0mnp\u001b[0m\u001b[0;34m.\u001b[0m\u001b[0mlib\u001b[0m\u001b[0;34m.\u001b[0m\u001b[0m_datasource\u001b[0m\u001b[0;34m.\u001b[0m\u001b[0mopen\u001b[0m\u001b[0;34m(\u001b[0m\u001b[0mfname\u001b[0m\u001b[0;34m,\u001b[0m \u001b[0;34m'rbU'\u001b[0m\u001b[0;34m)\u001b[0m\u001b[0;34m)\u001b[0m\u001b[0;34m\u001b[0m\u001b[0m\n\u001b[1;32m   1511\u001b[0m             \u001b[0;32melse\u001b[0m\u001b[0;34m:\u001b[0m\u001b[0;34m\u001b[0m\u001b[0m\n\u001b[0;32m-> 1512\u001b[0;31m                 \u001b[0mfhd\u001b[0m \u001b[0;34m=\u001b[0m \u001b[0miter\u001b[0m\u001b[0;34m(\u001b[0m\u001b[0mnp\u001b[0m\u001b[0;34m.\u001b[0m\u001b[0mlib\u001b[0m\u001b[0;34m.\u001b[0m\u001b[0m_datasource\u001b[0m\u001b[0;34m.\u001b[0m\u001b[0mopen\u001b[0m\u001b[0;34m(\u001b[0m\u001b[0mfname\u001b[0m\u001b[0;34m,\u001b[0m \u001b[0;34m'rb'\u001b[0m\u001b[0;34m)\u001b[0m\u001b[0;34m)\u001b[0m\u001b[0;34m\u001b[0m\u001b[0m\n\u001b[0m\u001b[1;32m   1513\u001b[0m             \u001b[0mown_fhd\u001b[0m \u001b[0;34m=\u001b[0m \u001b[0;32mTrue\u001b[0m\u001b[0;34m\u001b[0m\u001b[0m\n\u001b[1;32m   1514\u001b[0m         \u001b[0;32melse\u001b[0m\u001b[0;34m:\u001b[0m\u001b[0;34m\u001b[0m\u001b[0m\n",
      "\u001b[0;32m/home/prestonh/anaconda3/envs/py36/lib/python3.6/site-packages/numpy/lib/_datasource.py\u001b[0m in \u001b[0;36mopen\u001b[0;34m(path, mode, destpath)\u001b[0m\n\u001b[1;32m    149\u001b[0m \u001b[0;34m\u001b[0m\u001b[0m\n\u001b[1;32m    150\u001b[0m     \u001b[0mds\u001b[0m \u001b[0;34m=\u001b[0m \u001b[0mDataSource\u001b[0m\u001b[0;34m(\u001b[0m\u001b[0mdestpath\u001b[0m\u001b[0;34m)\u001b[0m\u001b[0;34m\u001b[0m\u001b[0m\n\u001b[0;32m--> 151\u001b[0;31m     \u001b[0;32mreturn\u001b[0m \u001b[0mds\u001b[0m\u001b[0;34m.\u001b[0m\u001b[0mopen\u001b[0m\u001b[0;34m(\u001b[0m\u001b[0mpath\u001b[0m\u001b[0;34m,\u001b[0m \u001b[0mmode\u001b[0m\u001b[0;34m)\u001b[0m\u001b[0;34m\u001b[0m\u001b[0m\n\u001b[0m\u001b[1;32m    152\u001b[0m \u001b[0;34m\u001b[0m\u001b[0m\n\u001b[1;32m    153\u001b[0m \u001b[0;34m\u001b[0m\u001b[0m\n",
      "\u001b[0;32m/home/prestonh/anaconda3/envs/py36/lib/python3.6/site-packages/numpy/lib/_datasource.py\u001b[0m in \u001b[0;36mopen\u001b[0;34m(self, path, mode)\u001b[0m\n\u001b[1;32m    499\u001b[0m             \u001b[0;32mreturn\u001b[0m \u001b[0m_file_openers\u001b[0m\u001b[0;34m[\u001b[0m\u001b[0mext\u001b[0m\u001b[0;34m]\u001b[0m\u001b[0;34m(\u001b[0m\u001b[0mfound\u001b[0m\u001b[0;34m,\u001b[0m \u001b[0mmode\u001b[0m\u001b[0;34m=\u001b[0m\u001b[0mmode\u001b[0m\u001b[0;34m)\u001b[0m\u001b[0;34m\u001b[0m\u001b[0m\n\u001b[1;32m    500\u001b[0m         \u001b[0;32melse\u001b[0m\u001b[0;34m:\u001b[0m\u001b[0;34m\u001b[0m\u001b[0m\n\u001b[0;32m--> 501\u001b[0;31m             \u001b[0;32mraise\u001b[0m \u001b[0mIOError\u001b[0m\u001b[0;34m(\u001b[0m\u001b[0;34m\"%s not found.\"\u001b[0m \u001b[0;34m%\u001b[0m \u001b[0mpath\u001b[0m\u001b[0;34m)\u001b[0m\u001b[0;34m\u001b[0m\u001b[0m\n\u001b[0m\u001b[1;32m    502\u001b[0m \u001b[0;34m\u001b[0m\u001b[0m\n\u001b[1;32m    503\u001b[0m \u001b[0;34m\u001b[0m\u001b[0m\n",
      "\u001b[0;31mOSError\u001b[0m: ./data/numpy_csv not found."
     ]
    }
   ],
   "source": [
    "#########################################################\n",
    "# Method 2: Using numpy's built-in functions\n",
    "#########################################################\n",
    "\n",
    "empty_array = np.empty((10,10))    # Create an uninitialized 10x10 matrix\n",
    "\n",
    "zeros_array = np.zeros((10,10))    # Create a matrix of all zeroes\n",
    "\n",
    "ones_array = np.ones((10,10))      # Create a matrix of all ones\n",
    "\n",
    "random_array = np.random.rand(10,10)    # Create a matrix of random numbers\n",
    "\n",
    "data_array = np.genfromtxt('./data/numpy_csv', delimiter = ',')    # Create a matrix from a csv file\n",
    "\n",
    "print(data_array.shape)    # Figure out the shape of the matrix imported from file"
   ]
  },
  {
   "cell_type": "markdown",
   "metadata": {},
   "source": [
    "- `shape` is a very useful property of numpy.ndarray objects\n",
    "- When in doubt about the shape of an array, use `print([arrayname].shape)` to get the shape of the object\n",
    "- This is incredibly useful when performing linear algebra operations to make sure you're performing the correct operation\n",
    "\n",
    "\n",
    "- In addition to $\\left(N\\times 1\\right)$ or $\\left(1\\times N\\right)$ `numpy.ndarray`s which we call vectors, there are also truly one-dimensional `numpy.ndarray`s:"
   ]
  },
  {
   "cell_type": "code",
   "execution_count": null,
   "metadata": {},
   "outputs": [],
   "source": [
    "row_vector = np.array([[1,2,3]])    # Row vector; technically this is a 2D object\n",
    "column_vector = np.array([[1],[2],[3]])    # Column vector; also 2D\n",
    "numpy_list = np.array([1,2,3])    # A truly 1D array\n",
    "print('row vector shape:', row_vector.shape)\n",
    "print('column vector shape:', column_vector.shape)\n",
    "print('numpy list shape:', numpy_list.shape)"
   ]
  },
  {
   "cell_type": "markdown",
   "metadata": {},
   "source": [
    "- We'll call true one-dimensional  ndarrays 'numpy lists' to differentiate them from vanilla 'python lists', but it's important to note that these objects are still of type `numpy.ndarray`\n",
    "- Notice the extra set of brackets on row vectors and column vectors; numpy lists do not require them\n",
    "- Be careful---linear algebra rules are strongly enforced for operations involving multidimensional `numpy.ndarrays` like vectors and matrices, but not necessarily enforced for operations involving single-dimensional arrays"
   ]
  },
  {
   "cell_type": "code",
   "execution_count": null,
   "metadata": {},
   "outputs": [],
   "source": [
    "a = np.array([1,2,3])                      # 1D numpy list\n",
    "b = np.array([[1],[2],[3]])                # 3x1 column vector\n",
    "c = np.array([[1,2,3]])                    # 1x3 row vector\n",
    "\n",
    "\n",
    "\n",
    "print('a:', a.shape)\n",
    "print(a)\n",
    "print('\\n\\n\\n')\n",
    "\n",
    "\n",
    "print('b:', b.shape)\n",
    "print(b)\n",
    "print('\\n\\n\\n')\n",
    "\n",
    "\n",
    "print('c:', c.shape)\n",
    "print(c)\n",
    "print('\\n\\n\\n')\n",
    "\n",
    "print('a.a')\n",
    "print(np.dot(a,a), '\\n')\n",
    "print('a.b')\n",
    "print(np.dot(a,b), '\\n')\n",
    "print('a.c')\n",
    "print(np.dot(a,c), '\\n')"
   ]
  },
  {
   "cell_type": "markdown",
   "metadata": {},
   "source": [
    "### Accessing numpy arrays\n",
    "- Like lists, numpy arrays are accessed with square brackets `[]`, start indexing at 0, and use `:` to extract a range of elements\n",
    "- For numpy arrays, we can also specify the elements along multiple axes:\n",
    "    - Numpy matrices, just like mathematical matrices, reference ** row first ** and ** column second **"
   ]
  },
  {
   "cell_type": "code",
   "execution_count": null,
   "metadata": {},
   "outputs": [],
   "source": [
    "A = np.random.rand(5,5)    # A 5x5 matrix of random numbers\n",
    "\n",
    "\n",
    "print(A,       '\\n\\n')    # Print the matrix\n",
    "print(A[3,4],  '\\n\\n')    # Print the element in 4th row, 5th column\n",
    "print(A[0,:],  '\\n\\n')    # Print the first row\n",
    "print(A[:,0],  '\\n\\n')    # Print the first column\n",
    "print(A[:2,:], '\\n\\n')    # Print the first two rows, all columns"
   ]
  },
  {
   "cell_type": "markdown",
   "metadata": {},
   "source": [
    "### Looping over arrays\n",
    "- One common operation involving numpy arrays is looping over every element in the array, similar to how we loop over Python lists"
   ]
  },
  {
   "cell_type": "code",
   "execution_count": null,
   "metadata": {},
   "outputs": [],
   "source": [
    "# Loop over a Python list\n",
    "print('looping over a python list')\n",
    "python_list = [1,2,3,4,5]\n",
    "for i in range(len(python_list)):\n",
    "    print('i = ', i)\n",
    "    pass\n",
    "    \n",
    "print('\\n\\n')\n",
    "    \n",
    "# Loop over two-dimensional numpy array (matrix)\n",
    "print('looping over a 2D numpy.ndarray')\n",
    "matrix = np.ones((3,3))\n",
    "for i in range(matrix.shape[0]):\n",
    "    for j in range(matrix.shape[1]):\n",
    "        print('(i,j) = ', i,j)"
   ]
  },
  {
   "cell_type": "markdown",
   "metadata": {},
   "source": [
    "### Array manipulation\n",
    "- Below are a few of the most common types of functions used to manipulate numpy `ndarray`s (in my research, at least)\n",
    "- You can find a comprehensive list of all functions at \n",
    "    - [Array manipulation](https://docs.scipy.org/doc/numpy/reference/routines.array-manipulation.html) "
   ]
  },
  {
   "cell_type": "markdown",
   "metadata": {},
   "source": [
    "##### numpy.reshape() or numpy.ndarray.reshape()\n",
    "- Reshape a numpy array\n",
    "- Useful for turning a numpy list into column vectors"
   ]
  },
  {
   "cell_type": "code",
   "execution_count": null,
   "metadata": {},
   "outputs": [],
   "source": [
    "a = np.arange(9)    # A numpy list of elements 0,1,2,...,9\n",
    "\n",
    "# Reshape a numpy.ndarray\n",
    "print(a.reshape(-1,1))    # Turn the numpy list into a column vector\n",
    "print(a.reshape(3,3))     # Turn the numpy list into a 3x3 matrix\n",
    "print(a.reshape(4,3))     # Turn the numpy list into a 4x3 matrix... this yields an error"
   ]
  },
  {
   "cell_type": "markdown",
   "metadata": {},
   "source": [
    "##### Transpose (switch rows with columns)"
   ]
  },
  {
   "cell_type": "code",
   "execution_count": null,
   "metadata": {},
   "outputs": [],
   "source": [
    "print('Transpose of row vector')\n",
    "a = np.array([[1,2,3]])    # Create a row vector\n",
    "print(a)\n",
    "b = a.T                    # Take the transpose to turn it into a column vector\n",
    "print(b)\n",
    "\n",
    "print('\\n\\n\\n')\n",
    "\n",
    "print('Transpose of numpy list')\n",
    "c = np.array([1,2,3])      # Create a numpy list\n",
    "print(c)\n",
    "d = c.T                    # Take the transpose to ???\n",
    "print(d)"
   ]
  },
  {
   "cell_type": "markdown",
   "metadata": {},
   "source": [
    "- Again, using linear algebra operations with numpy lists is ill-advised"
   ]
  },
  {
   "cell_type": "markdown",
   "metadata": {},
   "source": [
    "##### numpy.vstack() and numpy.hstack()\n",
    "- Stack `numpy.ndarray`s vertically or horizontally\n",
    "- This is useful when adding new data to a numpy array"
   ]
  },
  {
   "cell_type": "code",
   "execution_count": null,
   "metadata": {},
   "outputs": [],
   "source": [
    "a = np.array([[1,2,3]])    # 1x3 Row vector\n",
    "b = np.array([[4,5,6]])    # 1x3 Row vector\n",
    "\n",
    "c = np.vstack((a,b))       # 2x3 Matrix\n",
    "\n",
    "print('Stack one row on another')\n",
    "print('a\\n', a, '\\n')\n",
    "print('b\\n', b, '\\n')\n",
    "print('c\\n', c, '\\n')\n",
    "\n",
    "\n",
    "\n",
    "\n",
    "d = np.array([[1],[2],[3]])    # 3x1 Column vector\n",
    "e = np.array([[4],[5],[6]])    # 3x1 Column vector\n",
    "\n",
    "f = np.hstack((d,e))           # 3x2 Matrix\n",
    "\n",
    "print('Stack two columns side-by-side')\n",
    "print('d\\n', d, '\\n')\n",
    "print('e\\n', e, '\\n')\n",
    "print('f\\n', f, '\\n')\n"
   ]
  },
  {
   "cell_type": "markdown",
   "metadata": {},
   "source": [
    "### Linear algebra operations\n",
    "- [Link to numpy linear algebra functions](https://docs.scipy.org/doc/numpy/reference/routines.linalg.html)\n",
    "- Basic operations like matrix addition, subtraction, and multiplication by a scalar are implemented with the normal algebraic symbols\n",
    "- Matrix/vector multiplication requires the `np.dot()` function\n",
    "- Again, when using linear algebra in numpy always work with vectors/matrices instead of numpy lists!"
   ]
  },
  {
   "cell_type": "code",
   "execution_count": null,
   "metadata": {},
   "outputs": [],
   "source": [
    "# Create a matrix\n",
    "A = np.array([[1,0,0],[0,2,0],[0,0,3]])\n",
    "print('A\\n', A, '\\n\\n')\n",
    "\n",
    "\n",
    "# Scalar multiplication\n",
    "B = 2*A    \n",
    "print('B=2*A\\n', B, '\\n\\n')\n",
    "\n",
    "\n",
    "# Matrix addition\n",
    "C = B + A\n",
    "print('C=B-A\\n', C, '\\n\\n')\n",
    "\n",
    "\n",
    "# Matrix multiplication\n",
    "D = np.dot(A,B)\n",
    "print('D=AxB\\n', D, '\\n\\n')\n",
    "\n",
    "# Inverse\n",
    "E = np.linalg.inv(D)\n",
    "print('E=D^{-1}\\n', E, '\\n\\n')"
   ]
  },
  {
   "cell_type": "markdown",
   "metadata": {},
   "source": [
    "### Miscellaneous operations and functions"
   ]
  },
  {
   "cell_type": "markdown",
   "metadata": {},
   "source": [
    "##### np.where(): Find all elements fitting some criteria\n",
    "- This function is super useful---there are many cases where you need to grab the elements of an array that satisfy some criteria"
   ]
  },
  {
   "cell_type": "code",
   "execution_count": null,
   "metadata": {},
   "outputs": [],
   "source": [
    "# Grab all elements from the list exceeding some value\n",
    "A = np.array([[1,2,3],[4,5,6],[7,8,9]])\n",
    "\n",
    "# Get the indices of the elements that satisfy the criteria\n",
    "print(np.where(A>5))\n",
    "\n",
    "# Get the actual elements from the array\n",
    "print(A[np.where(A>5)])\n"
   ]
  },
  {
   "cell_type": "markdown",
   "metadata": {},
   "source": [
    "##### `np.mean()` and `np.std()`: Calculate mean and standard deviations of numpy array"
   ]
  },
  {
   "cell_type": "code",
   "execution_count": null,
   "metadata": {},
   "outputs": [],
   "source": [
    "A = np.array([[1,2,3],[4,5,6],[7,8,9]])\n",
    "print('A = ', A)\n",
    "print('Mean of A (all elements) = ', A.mean())           # Calculate mean of entire matrix\n",
    "print('Mean of As columns', A.mean(axis = 0))   # Calculate means of A's columns\n",
    "print('Standard deviation of As rows', A.std(axis = 1))    # Calculate standard deviations of A's rows"
   ]
  },
  {
   "cell_type": "markdown",
   "metadata": {},
   "source": [
    "##### `np.max()` and `np.min()`: Calculate max and min of numpy array"
   ]
  },
  {
   "cell_type": "code",
   "execution_count": null,
   "metadata": {},
   "outputs": [],
   "source": [
    "print('A minimum:', np.min(A))"
   ]
  },
  {
   "cell_type": "markdown",
   "metadata": {},
   "source": [
    "##### `np.abs()`: Calculate the absolute value of numpy array"
   ]
  },
  {
   "cell_type": "code",
   "execution_count": null,
   "metadata": {},
   "outputs": [],
   "source": [
    "random_matrix = np.random.rand(3,3)-0.5\n",
    "\n",
    "print('before')\n",
    "print(random_matrix)\n",
    "\n",
    "print('after')\n",
    "print(np.abs(random_matrix))"
   ]
  },
  {
   "cell_type": "markdown",
   "metadata": {},
   "source": [
    "## <font color=\"red\">Exercise: Numpy practice (15 minutes)</font>\n",
    "1. Load the dataset located in the file './data/numpy_practice'; make sure you specify the correct delimiter!\n",
    "    - Hint: Use the `np.genfromtxt()` function to load the data set\n",
    "2. Determine the shape of the matrix\n",
    "    - Answer: (1000, 3)\n",
    "3. Remove the first 100 rows of the matrix and recalculate its shape\n",
    "    - Answer: (900, 3)\n",
    "4. Calculate the average and standard deviation of each column\n",
    "    - Answer:\n",
    "        - means [ 0.07023286  4.96865587 -2.00031407]\n",
    "        - std devs [ 0.97754576  2.9510636   0.50815699]\n",
    "5. Remove all rows for which the first element is 3 or more times greater than that column's standard deviation, and recalculate its shape\n",
    "    - Answer: (898,3)\n",
    "7. Append a column of ones to the beginning of the matrix, and recalculate its shape\n",
    "    - Answer: (898,4)"
   ]
  },
  {
   "cell_type": "code",
   "execution_count": null,
   "metadata": {},
   "outputs": [],
   "source": [
    "##########################\n",
    "# Insert solution below! #\n",
    "##########################\n",
    "\n",
    "\n",
    "\n",
    "# 1. Load the data set\n",
    "############################################################################################\n",
    "\n",
    "A = np.genfromtxt('./data/numpy_practice', delimiter = ' ')\n",
    "\n",
    "\n",
    "\n",
    "\n",
    "\n",
    "# 2. Determine array's shape\n",
    "############################################################################################\n",
    "\n",
    "print('Initial size')\n",
    "print(A.shape)\n",
    "print('\\n')\n",
    "\n",
    "\n",
    "\n",
    "\n",
    "\n",
    "# 3. Remove first 100 rows and recalculate shape\n",
    "############################################################################################\n",
    "\n",
    "A = A[100:,:]\n",
    "print('Removed first 100 rows')\n",
    "print(A.shape)\n",
    "print('\\n')\n",
    "\n",
    "\n",
    "\n",
    "\n",
    "# 4. Calculate mean and std dev of columns\n",
    "############################################################################################\n",
    "\n",
    "means = np.mean(A, axis = 0)\n",
    "std_devs = np.std(A, axis = 0)\n",
    "print('means', means)\n",
    "print('std devs', std_devs)\n",
    "print('\\n')\n",
    "\n",
    "\n",
    "\n",
    "# 5. Remove rows where 1st column value is greater/less than 3 standard deviations from mean\n",
    "############################################################################################\n",
    "\n",
    "\n",
    "mean = means[0]\n",
    "std_dev = std_devs[0]\n",
    "\n",
    "\n",
    "keep_rows = np.where(np.abs(A[:,0]-mean) <= 3*std_dev)[0]\n",
    "A = A[keep_rows,:]\n",
    "print('Removed 3 sigma outliers')\n",
    "print(A.shape)\n",
    "print('\\n')\n",
    "\n",
    "\n",
    "# 6. Append column of ones\n",
    "############################################################################################\n",
    "\n",
    "\n",
    "ones_column = np.ones((A.shape[0],1))\n",
    "A = np.hstack((ones_column, A))\n",
    "print('Appended column of ones')\n",
    "print(A.shape)\n",
    "print('\\n')"
   ]
  },
  {
   "cell_type": "markdown",
   "metadata": {},
   "source": [
    "# Part 1. Matplotlib (30 minutes)\n",
    "- Matplotlib is a 2D python plotting library that you can use to make publication-quality figures\n",
    "- We almost exclusively use the `matplotlib.pyplot` module within matplotlib"
   ]
  },
  {
   "cell_type": "code",
   "execution_count": null,
   "metadata": {
    "collapsed": true
   },
   "outputs": [],
   "source": [
    "import matplotlib.pyplot as plt    # The main plotting module; it's customary to import it as `plt`\n",
    "%matplotlib inline                 # This is a Jupyter 'magic' command that tells the image to render in the notebook"
   ]
  },
  {
   "cell_type": "markdown",
   "metadata": {},
   "source": [
    "- There are four plotting functions we'll focus on today\n",
    "    - `plt.plot()`: plot lists with elements connected by lines\n",
    "    - `plt.scatter()`: similar to plot(), but scatter markers only\n",
    "    - `plt.hist()`: create a histogram\n",
    "    - `plt.imshow()`: plot matrices or images\n",
    "- After going over the four plotting functions, we'll introduce some cosmetic options so we can make our plots look nice"
   ]
  },
  {
   "cell_type": "markdown",
   "metadata": {},
   "source": [
    "## Line plots: `plt.plot()`\n",
    "    - The interface for plt.plot() is simple, and depends on whether we supply as arguments 1 or 2 lists\n",
    "        - 1 list: Plots the list on the y-axis, with the x-axis taking on numbers [0,1,2,...N-1], where N is the number of data points\n",
    "        - 2 lists: Interprets the data as (x,y) pairs\n",
    "    - Arguments can be python lists, numpy lists, or numpy vectors/matrices\n",
    "    - If given a numpy matrix, each column is interpreted as a separate data set!\n",
    "    - Probably best to always provide Python or numpy lists as arguments"
   ]
  },
  {
   "cell_type": "code",
   "execution_count": null,
   "metadata": {
    "scrolled": false
   },
   "outputs": [],
   "source": [
    "# Single list\n",
    "sines = np.sin(np.linspace(0,2*np.pi,100).reshape(-1,1))    # Create numpy list of sines of 100 numbers from 0 to pi\n",
    "plt.plot(sines)\n",
    "plt.show()\n",
    "\n",
    "# Two lists\n",
    "angles = np.linspace(0, 2*np.pi,100).reshape(-1,1)\n",
    "plt.plot(angles, sines)\n",
    "plt.show()\n",
    "\n",
    "# Plot two curves on the same graph\n",
    "cosines = np.cos(angles)\n",
    "plt.plot(angles, sines)\n",
    "plt.plot(angles, cosines)\n",
    "plt.show()"
   ]
  },
  {
   "cell_type": "markdown",
   "metadata": {},
   "source": [
    "- Notice the `plt.show()` line at the end of each set of plotting functions"
   ]
  },
  {
   "cell_type": "markdown",
   "metadata": {},
   "source": [
    "## Scatter plots: plt.scatter()\n",
    "- Similar to plt.plot(), but plots markers, not lines\n",
    "- Requires two lists or two column vectors (one for x data, one for y data)\n",
    "- Optional cosmetic options are slightly different than those used in `plt.plot()`"
   ]
  },
  {
   "cell_type": "code",
   "execution_count": null,
   "metadata": {},
   "outputs": [],
   "source": [
    "# Generate a correlated bivariate Gaussian distribution with random mean and random correlation matrix\n",
    "mean = np.array([.5, -.5])\n",
    "covariance = np.array([[.05,.05],[.25,1.5]])\n",
    "N = 1000\n",
    "data = np.random.multivariate_normal(mean = mean, cov = covariance, size = N)\n",
    "\n",
    "# Plot the data;\n",
    "# The data is an NX2 matrix, with the first column corresponding to x-dimension, second column y\n",
    "plt.scatter(data[:,0], data[:,1], zorder = 100)\n",
    "\n",
    "plt.grid()\n",
    "\n",
    "plt.show()"
   ]
  },
  {
   "cell_type": "markdown",
   "metadata": {},
   "source": [
    "# Histograms: plt.hist()\n",
    "- Bins 1D data and plots a histogram\n",
    "- Optional argument bins is used to specify the number of bins"
   ]
  },
  {
   "cell_type": "code",
   "execution_count": null,
   "metadata": {},
   "outputs": [],
   "source": [
    "# Plot histograms of x, y from the multivariate Gaussian drawn above\n",
    "plt.hist(data[:,0], alpha = 0.5, bins = 20)\n",
    "plt.hist(data[:,1], alpha = 0.5, bins = 20)\n",
    "plt.show()"
   ]
  },
  {
   "cell_type": "markdown",
   "metadata": {},
   "source": [
    "# Matrices and images: plt.imshow()"
   ]
  },
  {
   "cell_type": "markdown",
   "metadata": {},
   "source": [
    "- Plots matrices either in grayscale (2D ndarray) or RGB(3D ndarray)\n",
    "- Pixel images (bitmaps) can be interpreted as a matrix and plotted"
   ]
  },
  {
   "cell_type": "code",
   "execution_count": null,
   "metadata": {},
   "outputs": [],
   "source": [
    "# Plot a data matrix\n",
    "white_noise = np.random.randint(0, 255, size = (288, 512))    # Generate white noise\n",
    "plt.imshow(white_noise, cmap = 'gray')\n",
    "plt.show()\n",
    "\n",
    "# Plot an image\n",
    "import scipy.misc    # Import this to convert image to matrix\n",
    "direct_stem_matrix = scipy.misc.imread('./images/directstem.jpg')    # Convert image to matrix\n",
    "plt.imshow(direct_stem_matrix)\n",
    "plt.show()"
   ]
  },
  {
   "cell_type": "markdown",
   "metadata": {},
   "source": [
    "## Customization\n",
    "- matplotlib has a ton of customization options so you can make really nice looking plots\n",
    "- All of the plots created so far have been pretty simple; in reality, we want to label axes, give the plot a title, maybe include legends, customize line colors and thicknesses, etc.\n",
    "- In the below cell, we go over some of the most important customization options in matplotlib\n",
    "- You don't have to memorize this stuff, but the below cell should serve as a useful reference to go back to if you want to spruce up a plot"
   ]
  },
  {
   "cell_type": "code",
   "execution_count": null,
   "metadata": {},
   "outputs": [],
   "source": [
    "# Create figure\n",
    "fig = plt.figure(figsize = (8,6))    # Set the figure size to be 8 inches wide, 6 inches tall\n",
    "    \n",
    "# Plot data\n",
    "plt.plot(angles, sines + np.random.normal(0,.3,size = sines.shape[0]).reshape(-1,1),\\\n",
    "         lw = 3, ls = '-', color = 'red', label = 'data', zorder = 1)\n",
    "plt.plot(angles, sines, lw = 5, ls = '--', color = 'blue', label = 'fit', zorder = 2)\n",
    "plt.xlim(0,2*np.pi)\n",
    "plt.ylim(-2,2)\n",
    "\n",
    "# Plot cosmetics\n",
    "plt.title('Voltage vs phase', size = 16, fontweight = 'bold')\n",
    "plt.xlabel('Phase $\\phi$ (rad)', size = 14, fontweight = 'bold')\n",
    "plt.ylabel('Voltage (V)', size = 14, fontweight = 'bold')\n",
    "\n",
    "plt.grid()\n",
    "plt.legend(loc = 'upper right', fontsize = 14)\n",
    "plt.tick_params(labelsize = 14)\n",
    "plt.xticks([0,np.pi/2, np.pi, 3*np.pi/2, 2*np.pi], ['0', '$\\pi/2$', '$\\pi$', '$3\\pi/2$', '$2\\pi$'])\n",
    "plt.yticks([-1,0,1])\n",
    "\n",
    "plt.savefig('./images/fancy_figure.png', dpi = 100)\n",
    "plt.show()"
   ]
  },
  {
   "cell_type": "markdown",
   "metadata": {},
   "source": [
    "##### Explanation:\n",
    "\n",
    "- `plt.figure()`\n",
    "    - Allows you to specify options for the greater figure, such as its total size, number of subplots, etc.\n",
    "    - Common use-case is `plt.figure(figsize = ([width], [height]))` to make the image the size you want\n",
    "\n",
    "- `plt.plot()` cosmetic optional arguments:\n",
    "    - lw = (any int); width of line\n",
    "    - ls = ('-', '--', ':'); line style, solid, dashed, or dotted\n",
    "    - color = (string like 'blue' or RGB list with elements in range 0-1 e.g. [0, 0.5, 0.5])\n",
    "    - label = (string); label is used when making legend\n",
    "    - zorder = (any int); the 'height' of the lines; higher zorder lines will plot over lower zorder lines\n",
    "- `plt.xlim()`: (any float), (any float); set the xlimits between the first value provided and second value provided\n",
    "\n",
    "- `plt.title()`: (any string); set the title of the plot\n",
    "    - Cosmetic arguments\n",
    "        - size = (any int); set hte font size\n",
    "        - fontweight = 'bold'; make font bold\n",
    "- `plt.xlabel()`: Set the plot's x-axis label\n",
    "    - Cosmetic arguments same as `plt.title()`\n",
    "- `plt.legend()`: Create a legend \n",
    "    - Cosmetic arguments\n",
    "        - loc = 'upper left, bottom right', etc.; Set the location of the legend\n",
    "        - fontsize = (any int); set the font size of the text in the legend\n",
    "- `plt.grid()`: Add a grid overlay to the plot\n",
    "- `plt.xticks()`: (list of float or int); manually set the locations of the ticks on the x-axis\n",
    "    - Cosmetic argument\n",
    "        - labels = (list of string); customize the xlabels, e.g. use the symbol for pi instead of 3.14\n",
    "- `plt.tick_params()`: Change the parameters of the ticks and axis tick labels"
   ]
  },
  {
   "cell_type": "markdown",
   "metadata": {},
   "source": [
    "## <font color=\"red\">Exercise: Matplotlib practice (15 minutes)</font>\n",
    "- Load the data contained in `./data/matplotlib_practice`\n",
    "- Plot each of the columns against the first column on the same plot\n",
    "- Add features onto the plot such as axis titles and a legend to make it more presentable"
   ]
  },
  {
   "cell_type": "code",
   "execution_count": 44,
   "metadata": {},
   "outputs": [
    {
     "data": {
      "image/png": "[encoded data removed]",
      "text/plain": [
       "<matplotlib.figure.Figure at 0x7fe1780573c8>"
      ]
     },
     "metadata": {},
     "output_type": "display_data"
    }
   ],
   "source": [
    "#########################\n",
    "# Insert solution here! #\n",
    "#########################\n",
    "import matplotlib.pyplot as plt\n",
    "\n",
    "file_path = '../data/matplotlib_practice'\n",
    "\n",
    "columns = ['time', 'mean anomaly', 'month average', 'year average', '5 year average', '10 year average', '20 year average']\n",
    "\n",
    "data = np.genfromtxt(file_path, skip_header = 1, delimiter = '\\t')\n",
    "\n",
    "fig = plt.figure(figsize = (8,6))\n",
    "\n",
    "\n",
    "\n",
    "plt.plot(data[:,0], data[:,1], label = columns[1], lw = 4)\n",
    "plt.plot(data[:,0], data[:,2], label = columns[2], lw = 4)\n",
    "plt.plot(data[:,0], data[:,3], label = columns[3], lw = 4)\n",
    "plt.plot(data[:,0], data[:,4], label = columns[4], lw = 4)\n",
    "plt.plot(data[:,0], data[:,5], label = columns[5], lw = 4)\n",
    "\n",
    "\n",
    "plt.title('global temperature anomaly relative to Jan 1951-Dec 1980')\n",
    "plt.xlabel('year')\n",
    "plt.ylabel('temp anomaly (C)')\n",
    "\n",
    "\n",
    "plt.legend(loc = 'best')\n",
    "\n",
    "plt.grid()\n",
    "\n",
    "plt.show()"
   ]
  },
  {
   "cell_type": "code",
   "execution_count": null,
   "metadata": {
    "collapsed": true
   },
   "outputs": [],
   "source": []
  }
 ],
 "metadata": {
  "kernelspec": {
   "display_name": "Python 3",
   "language": "python",
   "name": "python3"
  },
  "language_info": {
   "codemirror_mode": {
    "name": "ipython",
    "version": 3
   },
   "file_extension": ".py",
   "mimetype": "text/x-python",
   "name": "python",
   "nbconvert_exporter": "python",
   "pygments_lexer": "ipython3",
   "version": "3.6.1"
  }
 },
 "nbformat": 4,
 "nbformat_minor": 2
}
